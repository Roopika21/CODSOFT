{
 "cells": [
  {
   "cell_type": "code",
   "execution_count": null,
   "metadata": {
    "vscode": {
     "languageId": "plaintext"
    }
   },
   "outputs": [],
   "source": [
    "import pandas as pd\n",
    "train = pd.read_csv(\"fraudTrain.csv\")\n",
    "test = pd.read_csv(\"fraudTest.csv\")\n",
    "train\n",
    "train.info()\n",
    "test\n",
    "test.info()\n",
    "\n",
    "frames = [train,test]\n",
    "df = pd.concat(frames)\n",
    "df.shape\n",
    "\n",
    "df.reset_index(inplace=True)\n",
    "df.info()\n",
    "\n",
    "from sklearn.preprocessing import OrdinalEncoder\n",
    "cols = ['trans_date_trans_time', 'merchant', 'category', 'first', 'last',\n",
    "        'gender', 'street', 'city', 'state', 'job', 'dob', 'trans_num']\n",
    "encoder = OrdinalEncoder()\n",
    "df[cols] = encoder.fit_transform(df[cols])\n",
    "print(df.duplicated().sum())\n",
    "print(\"\\n\")\n",
    "print(df.isnull().sum())\n",
    "\n",
    "df['is_fraud'].value_counts()\n",
    "\n",
    "from sklearn.model_selection import train_test_split \n",
    "x=df.drop(['is_fraud'],axis=1)\n",
    "y=df['is_fraud']\n",
    "x_train,x_test,y_train,y_test=train_test_split(x,y,test_size=0.2,random_state=100)\n",
    "x_train.shape\n",
    "y_train.shape\n",
    "\n",
    "from sklearn.linear_model import LogisticRegression\n",
    "model=LogisticRegression()\n",
    "model.fit(x_train,y_train)\n",
    "\n",
    "model=LogisticRegression()\n",
    "model.fit(x_train,y_train)\n",
    "pred_train = model.predict(x_train)\n",
    "pred_test  = model.predict(x_test)\n",
    "\n",
    "print('Training Accuracy : ', accuracy_score(y_train, pred_train)*100)\n",
    "\n",
    "print('Testing  Accuracy : ', accuracy_score(y_test, pred_test)*100)"
   ]
  }
 ],
 "metadata": {
  "language_info": {
   "name": "python"
  }
 },
 "nbformat": 4,
 "nbformat_minor": 2
}
